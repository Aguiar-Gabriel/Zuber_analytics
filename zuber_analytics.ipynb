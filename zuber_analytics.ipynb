{
 "cells": [
  {
   "cell_type": "markdown",
   "id": "f9e5a85c",
   "metadata": {},
   "source": [
    "# Análise Estatística de viagens de Taxi\n",
    "\n",
    "Segue aqui um projeto de Análise de dados, feito com bancos de dados com informações sobre viagens de Taxi.\n",
    "\n",
    "## Iniciação\n",
    "\n",
    "- Carregando pandas para o manejo do banco de dados\n",
    "- Statistics para cálculos de estatística\n",
    "- Datetime para formatação das datas na coluna referente ao dia no calendário\n",
    "- Alpha como nível crítico de significância estatística genérico mais aceito pela estatística, 5% por não ser tão rígido ao comparar a diferença das médias, mas ainda esta probabilidade é claramente muito suficiente para concluir que há uma diferença significativa entre os valores médios testados."
   ]
  },
  {
   "cell_type": "code",
   "execution_count": 2,
   "id": "7d30a258",
   "metadata": {},
   "outputs": [],
   "source": [
    "import pandas as pd\n",
    "import statistics\n",
    "import datetime as dt\n",
    "import matplotlib.pyplot as plt\n",
    "from scipy import stats as st\n",
    "alpha=0.05"
   ]
  },
  {
   "cell_type": "markdown",
   "id": "dfe67e65",
   "metadata": {},
   "source": [
    "- Carregando Dataframes"
   ]
  },
  {
   "cell_type": "code",
   "execution_count": 3,
   "id": "a3cf341d",
   "metadata": {
    "scrolled": true
   },
   "outputs": [],
   "source": [
    "df_trips= pd.read_csv('/datasets/project_sql_result_01.csv. ')\n",
    "df_temp= pd.read_csv('/datasets/project_sql_result_04.csv.')\n",
    "df_last= pd.read_csv('/datasets/project_sql_result_07.csv')"
   ]
  },
  {
   "cell_type": "code",
   "execution_count": 4,
   "id": "fd0afbcb",
   "metadata": {},
   "outputs": [
    {
     "name": "stdout",
     "output_type": "stream",
     "text": [
      "<class 'pandas.core.frame.DataFrame'>\n",
      "RangeIndex: 64 entries, 0 to 63\n",
      "Data columns (total 2 columns):\n",
      " #   Column        Non-Null Count  Dtype \n",
      "---  ------        --------------  ----- \n",
      " 0   company_name  64 non-null     object\n",
      " 1   trips_amount  64 non-null     int64 \n",
      "dtypes: int64(1), object(1)\n",
      "memory usage: 1.1+ KB\n"
     ]
    }
   ],
   "source": [
    "df_trips.info()"
   ]
  },
  {
   "cell_type": "code",
   "execution_count": 5,
   "id": "415987d3",
   "metadata": {},
   "outputs": [
    {
     "name": "stdout",
     "output_type": "stream",
     "text": [
      "<class 'pandas.core.frame.DataFrame'>\n",
      "RangeIndex: 94 entries, 0 to 93\n",
      "Data columns (total 2 columns):\n",
      " #   Column                 Non-Null Count  Dtype  \n",
      "---  ------                 --------------  -----  \n",
      " 0   dropoff_location_name  94 non-null     object \n",
      " 1   average_trips          94 non-null     float64\n",
      "dtypes: float64(1), object(1)\n",
      "memory usage: 1.6+ KB\n"
     ]
    }
   ],
   "source": [
    "df_temp.info()"
   ]
  },
  {
   "cell_type": "code",
   "execution_count": 6,
   "id": "a6fd193b",
   "metadata": {},
   "outputs": [
    {
     "name": "stdout",
     "output_type": "stream",
     "text": [
      "<class 'pandas.core.frame.DataFrame'>\n",
      "RangeIndex: 1068 entries, 0 to 1067\n",
      "Data columns (total 3 columns):\n",
      " #   Column              Non-Null Count  Dtype  \n",
      "---  ------              --------------  -----  \n",
      " 0   start_ts            1068 non-null   object \n",
      " 1   weather_conditions  1068 non-null   object \n",
      " 2   duration_seconds    1068 non-null   float64\n",
      "dtypes: float64(1), object(2)\n",
      "memory usage: 25.2+ KB\n"
     ]
    }
   ],
   "source": [
    "df_last.info()"
   ]
  },
  {
   "cell_type": "markdown",
   "id": "f60f383b",
   "metadata": {},
   "source": [
    "# Observando informações gerais do banco de dados\n",
    "### Dados:\n",
    "\n",
    "#### df_trips:\n",
    "- company_name: Nome da companhia.\n",
    "- trips_amount: Quantidade de viagens por companhia.\n",
    "\n",
    "#### df_temp:\n",
    "- dropoff_location_name: Bairro de destino da viagem.\n",
    "- average_trips: Quantidade de viagens por destino.\n",
    "\n",
    "#### df_last:\n",
    "- start_ts: data e hora de coleta\n",
    "- weather_conditions: condições meteorológicas no momento em que a corrida começou\n",
    "- duration_seconds: duração da corrida em segundos"
   ]
  },
  {
   "cell_type": "markdown",
   "id": "0fbb65b8",
   "metadata": {},
   "source": [
    "#### Corrigindo tipo de dado da data para datetime64[ns] e possibilitar futuras análises envolvendo o dia."
   ]
  },
  {
   "cell_type": "code",
   "execution_count": 7,
   "id": "8b67c8ad",
   "metadata": {},
   "outputs": [
    {
     "data": {
      "text/html": [
       "<div>\n",
       "<style scoped>\n",
       "    .dataframe tbody tr th:only-of-type {\n",
       "        vertical-align: middle;\n",
       "    }\n",
       "\n",
       "    .dataframe tbody tr th {\n",
       "        vertical-align: top;\n",
       "    }\n",
       "\n",
       "    .dataframe thead th {\n",
       "        text-align: right;\n",
       "    }\n",
       "</style>\n",
       "<table border=\"1\" class=\"dataframe\">\n",
       "  <thead>\n",
       "    <tr style=\"text-align: right;\">\n",
       "      <th></th>\n",
       "      <th>start_ts</th>\n",
       "      <th>weather_conditions</th>\n",
       "      <th>duration_seconds</th>\n",
       "    </tr>\n",
       "  </thead>\n",
       "  <tbody>\n",
       "    <tr>\n",
       "      <th>0</th>\n",
       "      <td>2017-11-25 16:00:00</td>\n",
       "      <td>Good</td>\n",
       "      <td>2410.0</td>\n",
       "    </tr>\n",
       "    <tr>\n",
       "      <th>1</th>\n",
       "      <td>2017-11-25 14:00:00</td>\n",
       "      <td>Good</td>\n",
       "      <td>1920.0</td>\n",
       "    </tr>\n",
       "    <tr>\n",
       "      <th>2</th>\n",
       "      <td>2017-11-25 12:00:00</td>\n",
       "      <td>Good</td>\n",
       "      <td>1543.0</td>\n",
       "    </tr>\n",
       "    <tr>\n",
       "      <th>3</th>\n",
       "      <td>2017-11-04 10:00:00</td>\n",
       "      <td>Good</td>\n",
       "      <td>2512.0</td>\n",
       "    </tr>\n",
       "    <tr>\n",
       "      <th>4</th>\n",
       "      <td>2017-11-11 07:00:00</td>\n",
       "      <td>Good</td>\n",
       "      <td>1440.0</td>\n",
       "    </tr>\n",
       "  </tbody>\n",
       "</table>\n",
       "</div>"
      ],
      "text/plain": [
       "              start_ts weather_conditions  duration_seconds\n",
       "0  2017-11-25 16:00:00               Good            2410.0\n",
       "1  2017-11-25 14:00:00               Good            1920.0\n",
       "2  2017-11-25 12:00:00               Good            1543.0\n",
       "3  2017-11-04 10:00:00               Good            2512.0\n",
       "4  2017-11-11 07:00:00               Good            1440.0"
      ]
     },
     "execution_count": 7,
     "metadata": {},
     "output_type": "execute_result"
    }
   ],
   "source": [
    "df_last.head()"
   ]
  },
  {
   "cell_type": "code",
   "execution_count": 8,
   "id": "706ab90c",
   "metadata": {},
   "outputs": [],
   "source": [
    "df_last.start_ts=pd.to_datetime(df_last.start_ts, format='%Y-%m-%d %H:%M:%S')"
   ]
  },
  {
   "cell_type": "code",
   "execution_count": 9,
   "id": "1d126030",
   "metadata": {},
   "outputs": [
    {
     "name": "stdout",
     "output_type": "stream",
     "text": [
      "<class 'pandas.core.frame.DataFrame'>\n",
      "RangeIndex: 1068 entries, 0 to 1067\n",
      "Data columns (total 3 columns):\n",
      " #   Column              Non-Null Count  Dtype         \n",
      "---  ------              --------------  -----         \n",
      " 0   start_ts            1068 non-null   datetime64[ns]\n",
      " 1   weather_conditions  1068 non-null   object        \n",
      " 2   duration_seconds    1068 non-null   float64       \n",
      "dtypes: datetime64[ns](1), float64(1), object(1)\n",
      "memory usage: 25.2+ KB\n"
     ]
    }
   ],
   "source": [
    "df_last.info()"
   ]
  },
  {
   "cell_type": "markdown",
   "id": "ca711a3e",
   "metadata": {},
   "source": [
    "#### Analisando quais bairros são mais frequentes como destinos."
   ]
  },
  {
   "cell_type": "code",
   "execution_count": 10,
   "id": "3f8c2aaf",
   "metadata": {},
   "outputs": [
    {
     "data": {
      "text/html": [
       "<div>\n",
       "<style scoped>\n",
       "    .dataframe tbody tr th:only-of-type {\n",
       "        vertical-align: middle;\n",
       "    }\n",
       "\n",
       "    .dataframe tbody tr th {\n",
       "        vertical-align: top;\n",
       "    }\n",
       "\n",
       "    .dataframe thead th {\n",
       "        text-align: right;\n",
       "    }\n",
       "</style>\n",
       "<table border=\"1\" class=\"dataframe\">\n",
       "  <thead>\n",
       "    <tr style=\"text-align: right;\">\n",
       "      <th></th>\n",
       "      <th>dropoff_location_name</th>\n",
       "      <th>average_trips</th>\n",
       "    </tr>\n",
       "  </thead>\n",
       "  <tbody>\n",
       "    <tr>\n",
       "      <th>0</th>\n",
       "      <td>Loop</td>\n",
       "      <td>10727.466667</td>\n",
       "    </tr>\n",
       "    <tr>\n",
       "      <th>1</th>\n",
       "      <td>River North</td>\n",
       "      <td>9523.666667</td>\n",
       "    </tr>\n",
       "    <tr>\n",
       "      <th>2</th>\n",
       "      <td>Streeterville</td>\n",
       "      <td>6664.666667</td>\n",
       "    </tr>\n",
       "    <tr>\n",
       "      <th>3</th>\n",
       "      <td>West Loop</td>\n",
       "      <td>5163.666667</td>\n",
       "    </tr>\n",
       "    <tr>\n",
       "      <th>4</th>\n",
       "      <td>O'Hare</td>\n",
       "      <td>2546.900000</td>\n",
       "    </tr>\n",
       "    <tr>\n",
       "      <th>5</th>\n",
       "      <td>Lake View</td>\n",
       "      <td>2420.966667</td>\n",
       "    </tr>\n",
       "    <tr>\n",
       "      <th>6</th>\n",
       "      <td>Grant Park</td>\n",
       "      <td>2068.533333</td>\n",
       "    </tr>\n",
       "    <tr>\n",
       "      <th>7</th>\n",
       "      <td>Museum Campus</td>\n",
       "      <td>1510.000000</td>\n",
       "    </tr>\n",
       "    <tr>\n",
       "      <th>8</th>\n",
       "      <td>Gold Coast</td>\n",
       "      <td>1364.233333</td>\n",
       "    </tr>\n",
       "    <tr>\n",
       "      <th>9</th>\n",
       "      <td>Sheffield &amp; DePaul</td>\n",
       "      <td>1259.766667</td>\n",
       "    </tr>\n",
       "  </tbody>\n",
       "</table>\n",
       "</div>"
      ],
      "text/plain": [
       "  dropoff_location_name  average_trips\n",
       "0                  Loop   10727.466667\n",
       "1           River North    9523.666667\n",
       "2         Streeterville    6664.666667\n",
       "3             West Loop    5163.666667\n",
       "4                O'Hare    2546.900000\n",
       "5             Lake View    2420.966667\n",
       "6            Grant Park    2068.533333\n",
       "7         Museum Campus    1510.000000\n",
       "8            Gold Coast    1364.233333\n",
       "9    Sheffield & DePaul    1259.766667"
      ]
     },
     "execution_count": 10,
     "metadata": {},
     "output_type": "execute_result"
    }
   ],
   "source": [
    "df_temp.sort_values(by='average_trips', ascending=False).head(10)"
   ]
  },
  {
   "cell_type": "markdown",
   "id": "d2031e75",
   "metadata": {},
   "source": [
    "#### Analisando quais companhias de taxi são mais usadas."
   ]
  },
  {
   "cell_type": "code",
   "execution_count": 11,
   "id": "05ed1ccf",
   "metadata": {
    "scrolled": true
   },
   "outputs": [
    {
     "data": {
      "text/html": [
       "<div>\n",
       "<style scoped>\n",
       "    .dataframe tbody tr th:only-of-type {\n",
       "        vertical-align: middle;\n",
       "    }\n",
       "\n",
       "    .dataframe tbody tr th {\n",
       "        vertical-align: top;\n",
       "    }\n",
       "\n",
       "    .dataframe thead th {\n",
       "        text-align: right;\n",
       "    }\n",
       "</style>\n",
       "<table border=\"1\" class=\"dataframe\">\n",
       "  <thead>\n",
       "    <tr style=\"text-align: right;\">\n",
       "      <th></th>\n",
       "      <th>company_name</th>\n",
       "      <th>trips_amount</th>\n",
       "    </tr>\n",
       "  </thead>\n",
       "  <tbody>\n",
       "    <tr>\n",
       "      <th>0</th>\n",
       "      <td>Flash Cab</td>\n",
       "      <td>19558</td>\n",
       "    </tr>\n",
       "    <tr>\n",
       "      <th>1</th>\n",
       "      <td>Taxi Affiliation Services</td>\n",
       "      <td>11422</td>\n",
       "    </tr>\n",
       "    <tr>\n",
       "      <th>2</th>\n",
       "      <td>Medallion Leasin</td>\n",
       "      <td>10367</td>\n",
       "    </tr>\n",
       "    <tr>\n",
       "      <th>3</th>\n",
       "      <td>Yellow Cab</td>\n",
       "      <td>9888</td>\n",
       "    </tr>\n",
       "    <tr>\n",
       "      <th>4</th>\n",
       "      <td>Taxi Affiliation Service Yellow</td>\n",
       "      <td>9299</td>\n",
       "    </tr>\n",
       "    <tr>\n",
       "      <th>5</th>\n",
       "      <td>Chicago Carriage Cab Corp</td>\n",
       "      <td>9181</td>\n",
       "    </tr>\n",
       "    <tr>\n",
       "      <th>6</th>\n",
       "      <td>City Service</td>\n",
       "      <td>8448</td>\n",
       "    </tr>\n",
       "    <tr>\n",
       "      <th>7</th>\n",
       "      <td>Sun Taxi</td>\n",
       "      <td>7701</td>\n",
       "    </tr>\n",
       "    <tr>\n",
       "      <th>8</th>\n",
       "      <td>Star North Management LLC</td>\n",
       "      <td>7455</td>\n",
       "    </tr>\n",
       "    <tr>\n",
       "      <th>9</th>\n",
       "      <td>Blue Ribbon Taxi Association Inc.</td>\n",
       "      <td>5953</td>\n",
       "    </tr>\n",
       "  </tbody>\n",
       "</table>\n",
       "</div>"
      ],
      "text/plain": [
       "                        company_name  trips_amount\n",
       "0                          Flash Cab         19558\n",
       "1          Taxi Affiliation Services         11422\n",
       "2                   Medallion Leasin         10367\n",
       "3                         Yellow Cab          9888\n",
       "4    Taxi Affiliation Service Yellow          9299\n",
       "5          Chicago Carriage Cab Corp          9181\n",
       "6                       City Service          8448\n",
       "7                           Sun Taxi          7701\n",
       "8          Star North Management LLC          7455\n",
       "9  Blue Ribbon Taxi Association Inc.          5953"
      ]
     },
     "execution_count": 11,
     "metadata": {},
     "output_type": "execute_result"
    }
   ],
   "source": [
    "df_trips.sort_values(by='trips_amount', ascending=False).head(10)"
   ]
  },
  {
   "cell_type": "markdown",
   "id": "70a029e1",
   "metadata": {},
   "source": [
    "### Observando distribuição de viagens ao longo dos destinos:"
   ]
  },
  {
   "cell_type": "code",
   "execution_count": 12,
   "id": "c6364f5c",
   "metadata": {
    "scrolled": true
   },
   "outputs": [
    {
     "data": {
      "text/plain": [
       "Text(0.5, 1.0, 'Destinos')"
      ]
     },
     "execution_count": 12,
     "metadata": {},
     "output_type": "execute_result"
    },
    {
     "data": {
      "image/png": "[encoded data removed]",
      "text/plain": [
       "<Figure size 640x480 with 1 Axes>"
      ]
     },
     "metadata": {},
     "output_type": "display_data"
    }
   ],
   "source": [
    "pivot_location=df_temp[df_temp['average_trips']>2000].pivot_table(index=['dropoff_location_name'], values='average_trips', aggfunc='sum')\n",
    "pivot_location.plot(kind='bar')\n",
    "plt.title('Destinos')"
   ]
  },
  {
   "cell_type": "markdown",
   "id": "a4e5154a",
   "metadata": {},
   "source": [
    "### Observando distribuição de viagens ao longo das companhias de Taxi:"
   ]
  },
  {
   "cell_type": "code",
   "execution_count": 13,
   "id": "c1d9c140",
   "metadata": {},
   "outputs": [
    {
     "data": {
      "text/plain": [
       "Text(0.5, 1.0, 'Companhias de Taxi')"
      ]
     },
     "execution_count": 13,
     "metadata": {},
     "output_type": "execute_result"
    },
    {
     "data": {
      "image/png": "[encoded data removed]",
      "text/plain": [
       "<Figure size 640x480 with 1 Axes>"
      ]
     },
     "metadata": {},
     "output_type": "display_data"
    }
   ],
   "source": [
    "pivot_location=df_trips[df_trips['trips_amount']>7500].pivot_table(index=['company_name'], values='trips_amount', aggfunc='sum')\n",
    "pivot_location.plot(kind='bar')\n",
    "plt.title('Companhias de Taxi')"
   ]
  },
  {
   "cell_type": "markdown",
   "id": "48a75dd2",
   "metadata": {},
   "source": [
    "## Enriquecendo dados\n",
    "Adicionando dia da semana em df_last para possibilitar o teste de hipótese comparando a duração das viagens do Loop para o Aeroporto Internacional O'Hare com o mesmo trajeto, porém em um sabado chuvoso."
   ]
  },
  {
   "cell_type": "code",
   "execution_count": 14,
   "id": "b3bc1ea6",
   "metadata": {},
   "outputs": [],
   "source": [
    "df_last['week_day']=(df_last['start_ts'].dt.weekday)\n",
    "#Criando coluna com dia da semana."
   ]
  },
  {
   "cell_type": "code",
   "execution_count": 15,
   "id": "838700f4",
   "metadata": {},
   "outputs": [],
   "source": [
    "unlucky=df_last[df_last['week_day']==5][df_last['weather_conditions']=='Bad']\n",
    "#Salvando em outra tabela as linhas de df_last que estavam no sábado com dia chuvoso."
   ]
  },
  {
   "cell_type": "code",
   "execution_count": 16,
   "id": "ef04aab9",
   "metadata": {},
   "outputs": [],
   "source": [
    "significancia_temp=st.ttest_ind(unlucky['duration_seconds'], df_last['duration_seconds'])"
   ]
  },
  {
   "cell_type": "markdown",
   "id": "2beadac9",
   "metadata": {},
   "source": [
    "#### Considerando a hipótese nula: As durações médias de viagens do bairro loop para o aeroporto em sábados chuvosos são iguais aos dias normais.\n",
    "#### E a alternativa: As durações médias de viagens do bairro loop para o aeroporto em sábados chuvosos são diferentes das médias dos dias normais."
   ]
  },
  {
   "cell_type": "code",
   "execution_count": 17,
   "id": "532183cc",
   "metadata": {},
   "outputs": [
    {
     "name": "stdout",
     "output_type": "stream",
     "text": [
      "Rejeitamos a hipótese nula, logo as durações médias de viagens do bairro loop para o aeroporto em sábados chuvosos são diferentes das médias dos dias normais.\n"
     ]
    }
   ],
   "source": [
    "if significancia_temp.pvalue < alpha:\n",
    "    print(\"Rejeitamos a hipótese nula, logo as durações médias de viagens do bairro loop para o aeroporto em sábados chuvosos são diferentes das médias dos dias normais.\")\n",
    "else:\n",
    "    print(\"Nós não podemos rejeitar a hipótese nula, logo, as durações médias de viagens do bairro loop para o aeroporto em sábados chuvosos são iguais aos dias normais.\") "
   ]
  },
  {
   "cell_type": "markdown",
   "id": "f0766aa3",
   "metadata": {},
   "source": [
    "# Conclusão\n",
    "## Dados Gerais\n",
    "\n",
    "- A tabela estava com o tipo de dado incorreto em df_last.start_ts, a biblioteca datetime foi utilizada para corrigir o tipo de dado.\n",
    "\n",
    "## Análise dos Dados\n",
    "\n",
    "### Análise de todos os bairros:\n",
    "\n",
    "- Os bairros com maior quantidade de número de corridas em que esse bairro é destino são: Loop, River North, Streeterville, WeestLoop.\n",
    "- Flash Cab é a companhia mais usada entre os usuários.\n",
    "- Os valores são muito discrepantes entre a quantidade de corrida por bairros e as companhias usadas pelos usuários, já que bairros como o do aeroporto são mais visitados por Taxis.\n",
    "\n",
    "## Análise Estatística dos Dados\n",
    "\n",
    "### Há diferença de duração de viagem para sábados chuvosos?\n",
    "\n",
    "- De acordo com o ttest realizado, a amostra da população possuí diferência de média significativa para a duração, então as populações de sábados chuvosos e dias normais diferem significativamente em suas durações.\n"
   ]
  }
 ],
 "metadata": {
  "kernelspec": {
   "display_name": "Python 3 (ipykernel)",
   "language": "python",
   "name": "python3"
  },
  "language_info": {
   "codemirror_mode": {
    "name": "ipython",
    "version": 3
   },
   "file_extension": ".py",
   "mimetype": "text/x-python",
   "name": "python",
   "nbconvert_exporter": "python",
   "pygments_lexer": "ipython3",
   "version": "3.9.12"
  }
 },
 "nbformat": 4,
 "nbformat_minor": 5
}
